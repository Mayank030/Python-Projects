{
 "cells": [
  {
   "attachments": {},
   "cell_type": "markdown",
   "metadata": {},
   "source": [
    "# PYTHON PROJECTS "
   ]
  },
  {
   "attachments": {},
   "cell_type": "markdown",
   "metadata": {},
   "source": [
    "#### RANDOM PASSWORD GENERATOR"
   ]
  },
  {
   "cell_type": "code",
   "execution_count": null,
   "metadata": {},
   "outputs": [],
   "source": [
    "\n",
    "# Ask user if they want to generate a password or not.\n",
    "# If yes ask for password length.\n",
    "# Generate password.\n",
    "# Print Password.\n",
    "# If initial response is no , exit program..\n",
    "\n",
    "import string\n",
    "import random\n",
    "\n",
    "characters = list(string.ascii_letters + string.digits + \"!@#$%^&*()\")\n",
    "\n",
    "def generate_password() :\n",
    "    password_length = int(input(\"How long would you like your password to be ? \"))\n",
    "    \n",
    "    random.shuffle(characters)\n",
    "\n",
    "    password = []\n",
    "    \n",
    "    for x in range(password_length) :\n",
    "        password.append(random.choice(characters))\n",
    "\n",
    "    random.shuffle(password)\n",
    "\n",
    "    password = \"\".join(password)\n",
    "    print(password)\n",
    "\n",
    "\n",
    "option = input(\"Do you want to generate a password ? (Y/N) :\")\n",
    "\n",
    "if option == \"Y\" :\n",
    "    generate_password()\n",
    "elif option == \"N\" :\n",
    "    print(\"Program Ended\")\n",
    "    quit()\n",
    "else : \n",
    "    print(\"Invalid input , please input \\\"Y/N\\\"\")\n",
    "\n",
    "\n",
    "    \n",
    "\n"
   ]
  },
  {
   "attachments": {},
   "cell_type": "markdown",
   "metadata": {},
   "source": [
    "#### DICE ROLLING SIMULATOR "
   ]
  },
  {
   "cell_type": "code",
   "execution_count": null,
   "metadata": {},
   "outputs": [],
   "source": [
    "# Define a function to roll the dice \n",
    "# Create a Dictionary that will have the drawings of the dice\n",
    "\n",
    "\n",
    "import random\n",
    "\n",
    "\n",
    "\n",
    "def roll_dice(): \n",
    "\n",
    "    dice_drawing = {\n",
    "\n",
    "        1 : (\n",
    "\n",
    "            \"_________\",\n",
    "            \"|        |\",\n",
    "            \"|    1   |\",\n",
    "            \"|    •   |\",\n",
    "            \"|________|\"\n",
    "        ), \n",
    "        2 : (\n",
    "            \"_________\" , \n",
    "            \"| •      |\" ,\n",
    "            \"|   2    |\" , \n",
    "            \"|    •   |\", \n",
    "            \"|________|\",\n",
    "            \n",
    "        ) , \n",
    "        3  :(\n",
    "            \"_________\" ,\n",
    "            \"| •    3 |\",\n",
    "            \"|   •    |\",\n",
    "            \"|    •   |\",\n",
    "            \"|________|\"\n",
    "        ) , \n",
    "        4 : (\n",
    "            \"_________\" ,\n",
    "            \"| •     •|\",\n",
    "            \"|    4   |\",\n",
    "            \"| •     •|\",\n",
    "            \"|________|\"\n",
    "        ), \n",
    "        5 : (\n",
    "            \"_________\" ,\n",
    "            \"| •  5  •|\",\n",
    "            \"|    •   |\",\n",
    "            \"| •     •|\",\n",
    "            \"|________|\"\n",
    "        ) , \n",
    "        6: (\n",
    "            \"_________\", \n",
    "            \"| •     •|\",\n",
    "            \"| •  6  •|\",\n",
    "            \"| •     •|\",\n",
    "            \"|________|\"\n",
    "        )\n",
    "\n",
    "    }\n",
    "\n",
    "    roll = input(\"Roll the Dice ? (Yes/No): \")\n",
    "\n",
    "    while roll.lower() == \"Yes\".lower() : \n",
    "        dice1 = random.randint(1,6)\n",
    "        dice2 = random.randint(1,6)\n",
    "\n",
    "        print(f\"Dice Rolled : {dice1} and {dice2}\")\n",
    "        print(\"\\n\". join(dice_drawing[dice1]))\n",
    "        print(\"\\n\". join(dice_drawing[dice2]))\n",
    "\n",
    "        roll = input(\"Roll again ? (Yes/No)\")\n",
    "\n",
    "\n",
    "\n",
    "roll_dice()\n",
    "\n"
   ]
  },
  {
   "cell_type": "code",
   "execution_count": null,
   "metadata": {},
   "outputs": [],
   "source": [
    "from tkinter import *\n",
    "window=Tk()\n",
    "btn=Button(window, text=\"This is Button widget\", fg='blue')\n",
    "btn.place(x=80, y=100)\n",
    "lbl=Label(window, text=\"This is Label widget\", fg='red', font=(\"Helvetica\", 16))\n",
    "lbl.place(x=60, y=50)\n",
    "txtfld=Entry(window, text=\"This is Entry Widget\", bd=5)\n",
    "txtfld.place(x=80, y=150)\n",
    "window.title('Hello Python')\n",
    "window.geometry(\"300x200+10+10\")\n",
    "window.mainloop()"
   ]
  }
 ],
 "metadata": {
  "kernelspec": {
   "display_name": "Python 3",
   "language": "python",
   "name": "python3"
  },
  "language_info": {
   "codemirror_mode": {
    "name": "ipython",
    "version": 3
   },
   "file_extension": ".py",
   "mimetype": "text/x-python",
   "name": "python",
   "nbconvert_exporter": "python",
   "pygments_lexer": "ipython3",
   "version": "3.10.0"
  },
  "orig_nbformat": 4,
  "vscode": {
   "interpreter": {
    "hash": "213524bb45a1aeaf737b1d8c77d7b8db5d425938d9dffc5f4bc6fe6dd3324700"
   }
  }
 },
 "nbformat": 4,
 "nbformat_minor": 2
}
